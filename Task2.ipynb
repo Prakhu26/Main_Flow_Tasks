{
 "cells": [
  {
   "cell_type": "code",
   "execution_count": 165,
   "id": "a1264223-719d-43dd-aed6-ac746dce1267",
   "metadata": {},
   "outputs": [],
   "source": [
    "import pandas as pd"
   ]
  },
  {
   "cell_type": "code",
   "execution_count": 166,
   "id": "fe27349a-7d43-4c72-a537-2ff5bfc793a9",
   "metadata": {},
   "outputs": [],
   "source": [
    "df = pd.read_csv(\"apple_jobs.csv\")"
   ]
  },
  {
   "cell_type": "code",
   "execution_count": 167,
   "id": "68c37fdb-2b9a-4b20-b1e8-bc433dcd71ce",
   "metadata": {
    "scrolled": true
   },
   "outputs": [
    {
     "data": {
      "text/html": [
       "<div>\n",
       "<style scoped>\n",
       "    .dataframe tbody tr th:only-of-type {\n",
       "        vertical-align: middle;\n",
       "    }\n",
       "\n",
       "    .dataframe tbody tr th {\n",
       "        vertical-align: top;\n",
       "    }\n",
       "\n",
       "    .dataframe thead th {\n",
       "        text-align: right;\n",
       "    }\n",
       "</style>\n",
       "<table border=\"1\" class=\"dataframe\">\n",
       "  <thead>\n",
       "    <tr style=\"text-align: right;\">\n",
       "      <th></th>\n",
       "      <th>title</th>\n",
       "      <th>location</th>\n",
       "      <th>minimum_qual</th>\n",
       "      <th>preferred_qual</th>\n",
       "      <th>responsibilities</th>\n",
       "      <th>education&amp;experience</th>\n",
       "    </tr>\n",
       "  </thead>\n",
       "  <tbody>\n",
       "    <tr>\n",
       "      <th>0</th>\n",
       "      <td>Software Technician</td>\n",
       "      <td>Santa Clara Valley (Cupertino), California, Un...</td>\n",
       "      <td>2-5 years experience supporting or deploying a...</td>\n",
       "      <td>NaN</td>\n",
       "      <td>As a software techician, you will assist with ...</td>\n",
       "      <td>AS/BS in Information Technology, or equivalent</td>\n",
       "    </tr>\n",
       "    <tr>\n",
       "      <th>1</th>\n",
       "      <td>Software Engineer</td>\n",
       "      <td>Santa Clara Valley (Cupertino), California, Un...</td>\n",
       "      <td>KEY QUALIFICATIONS\\nA genuine passion for fixi...</td>\n",
       "      <td>ADDITIONAL REQUIREMENTS\\nReal hands-on experie...</td>\n",
       "      <td>DESCRIPTION\\nWork with multi-functional teams ...</td>\n",
       "      <td>EDUCATION\\nBS or MS in Computer Engineering or...</td>\n",
       "    </tr>\n",
       "    <tr>\n",
       "      <th>2</th>\n",
       "      <td>Software Engineer</td>\n",
       "      <td>Santa Clara Valley (Cupertino), California, Un...</td>\n",
       "      <td>- 3+ years experience working on large scale d...</td>\n",
       "      <td>NaN</td>\n",
       "      <td>This position will design, implement and debug...</td>\n",
       "      <td>BS, MS or PhD, in Computer Science, or equival...</td>\n",
       "    </tr>\n",
       "    <tr>\n",
       "      <th>3</th>\n",
       "      <td>Software Engineer</td>\n",
       "      <td>Santa Clara Valley (Cupertino), California, Un...</td>\n",
       "      <td>- 3+ years experience working on large scale d...</td>\n",
       "      <td>NaN</td>\n",
       "      <td>This position will design, implement and debug...</td>\n",
       "      <td>BS, MS or PhD, in Computer Science, or equival...</td>\n",
       "    </tr>\n",
       "    <tr>\n",
       "      <th>4</th>\n",
       "      <td>Software Engineer</td>\n",
       "      <td>Santa Clara Valley (Cupertino), California, Un...</td>\n",
       "      <td>Demonstrated experience integrating full-syste...</td>\n",
       "      <td>NaN</td>\n",
       "      <td>Extraordinary planning, critical thinking, and...</td>\n",
       "      <td>M.S. or PhD in Computer Science, Electrical En...</td>\n",
       "    </tr>\n",
       "  </tbody>\n",
       "</table>\n",
       "</div>"
      ],
      "text/plain": [
       "                 title                                           location  \\\n",
       "0  Software Technician  Santa Clara Valley (Cupertino), California, Un...   \n",
       "1    Software Engineer  Santa Clara Valley (Cupertino), California, Un...   \n",
       "2    Software Engineer  Santa Clara Valley (Cupertino), California, Un...   \n",
       "3    Software Engineer  Santa Clara Valley (Cupertino), California, Un...   \n",
       "4    Software Engineer  Santa Clara Valley (Cupertino), California, Un...   \n",
       "\n",
       "                                        minimum_qual  \\\n",
       "0  2-5 years experience supporting or deploying a...   \n",
       "1  KEY QUALIFICATIONS\\nA genuine passion for fixi...   \n",
       "2  - 3+ years experience working on large scale d...   \n",
       "3  - 3+ years experience working on large scale d...   \n",
       "4  Demonstrated experience integrating full-syste...   \n",
       "\n",
       "                                      preferred_qual  \\\n",
       "0                                                NaN   \n",
       "1  ADDITIONAL REQUIREMENTS\\nReal hands-on experie...   \n",
       "2                                                NaN   \n",
       "3                                                NaN   \n",
       "4                                                NaN   \n",
       "\n",
       "                                    responsibilities  \\\n",
       "0  As a software techician, you will assist with ...   \n",
       "1  DESCRIPTION\\nWork with multi-functional teams ...   \n",
       "2  This position will design, implement and debug...   \n",
       "3  This position will design, implement and debug...   \n",
       "4  Extraordinary planning, critical thinking, and...   \n",
       "\n",
       "                                education&experience  \n",
       "0     AS/BS in Information Technology, or equivalent  \n",
       "1  EDUCATION\\nBS or MS in Computer Engineering or...  \n",
       "2  BS, MS or PhD, in Computer Science, or equival...  \n",
       "3  BS, MS or PhD, in Computer Science, or equival...  \n",
       "4  M.S. or PhD in Computer Science, Electrical En...  "
      ]
     },
     "execution_count": 167,
     "metadata": {},
     "output_type": "execute_result"
    }
   ],
   "source": [
    "df.head()"
   ]
  },
  {
   "cell_type": "code",
   "execution_count": 168,
   "id": "85513609-e6bc-4e83-929f-b85f9db25991",
   "metadata": {},
   "outputs": [
    {
     "data": {
      "text/html": [
       "<div>\n",
       "<style scoped>\n",
       "    .dataframe tbody tr th:only-of-type {\n",
       "        vertical-align: middle;\n",
       "    }\n",
       "\n",
       "    .dataframe tbody tr th {\n",
       "        vertical-align: top;\n",
       "    }\n",
       "\n",
       "    .dataframe thead th {\n",
       "        text-align: right;\n",
       "    }\n",
       "</style>\n",
       "<table border=\"1\" class=\"dataframe\">\n",
       "  <thead>\n",
       "    <tr style=\"text-align: right;\">\n",
       "      <th></th>\n",
       "      <th>title</th>\n",
       "      <th>location</th>\n",
       "      <th>minimum_qual</th>\n",
       "      <th>preferred_qual</th>\n",
       "      <th>responsibilities</th>\n",
       "      <th>education&amp;experience</th>\n",
       "    </tr>\n",
       "  </thead>\n",
       "  <tbody>\n",
       "    <tr>\n",
       "      <th>count</th>\n",
       "      <td>2148</td>\n",
       "      <td>2148</td>\n",
       "      <td>2148</td>\n",
       "      <td>744</td>\n",
       "      <td>2148</td>\n",
       "      <td>2069</td>\n",
       "    </tr>\n",
       "    <tr>\n",
       "      <th>unique</th>\n",
       "      <td>1771</td>\n",
       "      <td>77</td>\n",
       "      <td>1881</td>\n",
       "      <td>576</td>\n",
       "      <td>1904</td>\n",
       "      <td>1395</td>\n",
       "    </tr>\n",
       "    <tr>\n",
       "      <th>top</th>\n",
       "      <td>Software Engineer</td>\n",
       "      <td>Santa Clara Valley (Cupertino), California, Un...</td>\n",
       "      <td>Experience designing, implementing, and scalin...</td>\n",
       "      <td>Apple is an Equal Opportunity Employer that is...</td>\n",
       "      <td>Apple's News team is seeking a high-energy Ful...</td>\n",
       "      <td>B.S. in Computer Science or equivalent experience</td>\n",
       "    </tr>\n",
       "    <tr>\n",
       "      <th>freq</th>\n",
       "      <td>16</td>\n",
       "      <td>1525</td>\n",
       "      <td>6</td>\n",
       "      <td>41</td>\n",
       "      <td>6</td>\n",
       "      <td>21</td>\n",
       "    </tr>\n",
       "  </tbody>\n",
       "</table>\n",
       "</div>"
      ],
      "text/plain": [
       "                    title                                           location  \\\n",
       "count                2148                                               2148   \n",
       "unique               1771                                                 77   \n",
       "top     Software Engineer  Santa Clara Valley (Cupertino), California, Un...   \n",
       "freq                   16                                               1525   \n",
       "\n",
       "                                             minimum_qual  \\\n",
       "count                                                2148   \n",
       "unique                                               1881   \n",
       "top     Experience designing, implementing, and scalin...   \n",
       "freq                                                    6   \n",
       "\n",
       "                                           preferred_qual  \\\n",
       "count                                                 744   \n",
       "unique                                                576   \n",
       "top     Apple is an Equal Opportunity Employer that is...   \n",
       "freq                                                   41   \n",
       "\n",
       "                                         responsibilities  \\\n",
       "count                                                2148   \n",
       "unique                                               1904   \n",
       "top     Apple's News team is seeking a high-energy Ful...   \n",
       "freq                                                    6   \n",
       "\n",
       "                                     education&experience  \n",
       "count                                                2069  \n",
       "unique                                               1395  \n",
       "top     B.S. in Computer Science or equivalent experience  \n",
       "freq                                                   21  "
      ]
     },
     "execution_count": 168,
     "metadata": {},
     "output_type": "execute_result"
    }
   ],
   "source": [
    "df.describe()"
   ]
  },
  {
   "cell_type": "code",
   "execution_count": 169,
   "id": "1db8bff3-417a-496f-8b40-d86a3708b716",
   "metadata": {},
   "outputs": [
    {
     "name": "stdout",
     "output_type": "stream",
     "text": [
      "<class 'pandas.core.frame.DataFrame'>\n",
      "RangeIndex: 2148 entries, 0 to 2147\n",
      "Data columns (total 6 columns):\n",
      " #   Column                Non-Null Count  Dtype \n",
      "---  ------                --------------  ----- \n",
      " 0   title                 2148 non-null   object\n",
      " 1   location              2148 non-null   object\n",
      " 2   minimum_qual          2148 non-null   object\n",
      " 3   preferred_qual        744 non-null    object\n",
      " 4   responsibilities      2148 non-null   object\n",
      " 5   education&experience  2069 non-null   object\n",
      "dtypes: object(6)\n",
      "memory usage: 100.8+ KB\n"
     ]
    }
   ],
   "source": [
    "df.info()"
   ]
  },
  {
   "cell_type": "code",
   "execution_count": 170,
   "id": "4ae1e190-4fcb-449e-b36b-a22cdbf38b53",
   "metadata": {
    "scrolled": true
   },
   "outputs": [
    {
     "data": {
      "text/plain": [
       "title                      0\n",
       "location                   0\n",
       "minimum_qual               0\n",
       "preferred_qual          1404\n",
       "responsibilities           0\n",
       "education&experience      79\n",
       "dtype: int64"
      ]
     },
     "execution_count": 170,
     "metadata": {},
     "output_type": "execute_result"
    }
   ],
   "source": [
    "df.isnull().sum()"
   ]
  },
  {
   "cell_type": "code",
   "execution_count": 171,
   "id": "a7c4b2a0-38b8-4623-a0c3-1c13d9e7bb50",
   "metadata": {},
   "outputs": [],
   "source": [
    "# Filtering data for jobs located in \"Santa Clara Valley (Cupertino), California, United States\"\n",
    "cupertino_jobs = df[df['location'].str.contains(\"Santa Clara Valley\")]"
   ]
  },
  {
   "cell_type": "code",
   "execution_count": 172,
   "id": "baa44c62-0f02-4cd4-b3c5-a5391976ff6b",
   "metadata": {},
   "outputs": [],
   "source": [
    "df['preferred_qual'].fillna(\"None\", inplace=True)"
   ]
  },
  {
   "cell_type": "code",
   "execution_count": 173,
   "id": "ab99148d-8f51-466b-a1fc-18f60cbd3c4d",
   "metadata": {},
   "outputs": [],
   "source": [
    "df_cleaned = df.dropna(subset=['education&experience'])"
   ]
  },
  {
   "cell_type": "code",
   "execution_count": 174,
   "id": "897dbe89-3d87-445f-ad9a-4fa675481961",
   "metadata": {},
   "outputs": [
    {
     "data": {
      "text/plain": [
       "title                   0\n",
       "location                0\n",
       "minimum_qual            0\n",
       "preferred_qual          0\n",
       "responsibilities        0\n",
       "education&experience    0\n",
       "dtype: int64"
      ]
     },
     "execution_count": 174,
     "metadata": {},
     "output_type": "execute_result"
    }
   ],
   "source": [
    "df_cleaned.isnull().sum()"
   ]
  },
  {
   "cell_type": "code",
   "execution_count": 175,
   "id": "af0f24af-02be-4df5-ae75-f20c9b448586",
   "metadata": {},
   "outputs": [],
   "source": [
    "# Counting the number of job postings per location\n",
    "location_counts = df['location'].value_counts()"
   ]
  },
  {
   "cell_type": "code",
   "execution_count": 176,
   "id": "e9afbe1a-ef86-4d29-b654-393009d9f770",
   "metadata": {},
   "outputs": [
    {
     "data": {
      "text/html": [
       "<div>\n",
       "<style scoped>\n",
       "    .dataframe tbody tr th:only-of-type {\n",
       "        vertical-align: middle;\n",
       "    }\n",
       "\n",
       "    .dataframe tbody tr th {\n",
       "        vertical-align: top;\n",
       "    }\n",
       "\n",
       "    .dataframe thead th {\n",
       "        text-align: right;\n",
       "    }\n",
       "</style>\n",
       "<table border=\"1\" class=\"dataframe\">\n",
       "  <thead>\n",
       "    <tr style=\"text-align: right;\">\n",
       "      <th></th>\n",
       "      <th>title</th>\n",
       "      <th>location</th>\n",
       "      <th>minimum_qual</th>\n",
       "      <th>preferred_qual</th>\n",
       "      <th>responsibilities</th>\n",
       "      <th>education&amp;experience</th>\n",
       "    </tr>\n",
       "  </thead>\n",
       "  <tbody>\n",
       "    <tr>\n",
       "      <th>0</th>\n",
       "      <td>Software Technician</td>\n",
       "      <td>Santa Clara Valley (Cupertino), California, Un...</td>\n",
       "      <td>2-5 years experience supporting or deploying a...</td>\n",
       "      <td>NaN</td>\n",
       "      <td>As a software techician, you will assist with ...</td>\n",
       "      <td>AS/BS in Information Technology, or equivalent</td>\n",
       "    </tr>\n",
       "    <tr>\n",
       "      <th>1</th>\n",
       "      <td>Software Engineer</td>\n",
       "      <td>Santa Clara Valley (Cupertino), California, Un...</td>\n",
       "      <td>KEY QUALIFICATIONS\\nA genuine passion for fixi...</td>\n",
       "      <td>ADDITIONAL REQUIREMENTS\\nReal hands-on experie...</td>\n",
       "      <td>DESCRIPTION\\nWork with multi-functional teams ...</td>\n",
       "      <td>EDUCATION\\nBS or MS in Computer Engineering or...</td>\n",
       "    </tr>\n",
       "    <tr>\n",
       "      <th>2</th>\n",
       "      <td>Software Engineer</td>\n",
       "      <td>Santa Clara Valley (Cupertino), California, Un...</td>\n",
       "      <td>- 3+ years experience working on large scale d...</td>\n",
       "      <td>NaN</td>\n",
       "      <td>This position will design, implement and debug...</td>\n",
       "      <td>BS, MS or PhD, in Computer Science, or equival...</td>\n",
       "    </tr>\n",
       "    <tr>\n",
       "      <th>3</th>\n",
       "      <td>Software Engineer</td>\n",
       "      <td>Santa Clara Valley (Cupertino), California, Un...</td>\n",
       "      <td>- 3+ years experience working on large scale d...</td>\n",
       "      <td>NaN</td>\n",
       "      <td>This position will design, implement and debug...</td>\n",
       "      <td>BS, MS or PhD, in Computer Science, or equival...</td>\n",
       "    </tr>\n",
       "    <tr>\n",
       "      <th>4</th>\n",
       "      <td>Software Engineer</td>\n",
       "      <td>Santa Clara Valley (Cupertino), California, Un...</td>\n",
       "      <td>Demonstrated experience integrating full-syste...</td>\n",
       "      <td>NaN</td>\n",
       "      <td>Extraordinary planning, critical thinking, and...</td>\n",
       "      <td>M.S. or PhD in Computer Science, Electrical En...</td>\n",
       "    </tr>\n",
       "  </tbody>\n",
       "</table>\n",
       "</div>"
      ],
      "text/plain": [
       "                 title                                           location  \\\n",
       "0  Software Technician  Santa Clara Valley (Cupertino), California, Un...   \n",
       "1    Software Engineer  Santa Clara Valley (Cupertino), California, Un...   \n",
       "2    Software Engineer  Santa Clara Valley (Cupertino), California, Un...   \n",
       "3    Software Engineer  Santa Clara Valley (Cupertino), California, Un...   \n",
       "4    Software Engineer  Santa Clara Valley (Cupertino), California, Un...   \n",
       "\n",
       "                                        minimum_qual  \\\n",
       "0  2-5 years experience supporting or deploying a...   \n",
       "1  KEY QUALIFICATIONS\\nA genuine passion for fixi...   \n",
       "2  - 3+ years experience working on large scale d...   \n",
       "3  - 3+ years experience working on large scale d...   \n",
       "4  Demonstrated experience integrating full-syste...   \n",
       "\n",
       "                                      preferred_qual  \\\n",
       "0                                                NaN   \n",
       "1  ADDITIONAL REQUIREMENTS\\nReal hands-on experie...   \n",
       "2                                                NaN   \n",
       "3                                                NaN   \n",
       "4                                                NaN   \n",
       "\n",
       "                                    responsibilities  \\\n",
       "0  As a software techician, you will assist with ...   \n",
       "1  DESCRIPTION\\nWork with multi-functional teams ...   \n",
       "2  This position will design, implement and debug...   \n",
       "3  This position will design, implement and debug...   \n",
       "4  Extraordinary planning, critical thinking, and...   \n",
       "\n",
       "                                education&experience  \n",
       "0     AS/BS in Information Technology, or equivalent  \n",
       "1  EDUCATION\\nBS or MS in Computer Engineering or...  \n",
       "2  BS, MS or PhD, in Computer Science, or equival...  \n",
       "3  BS, MS or PhD, in Computer Science, or equival...  \n",
       "4  M.S. or PhD in Computer Science, Electrical En...  "
      ]
     },
     "execution_count": 176,
     "metadata": {},
     "output_type": "execute_result"
    }
   ],
   "source": [
    "# Display the first few rows of the filtered and cleaned data, and the summary statistics\n",
    "cupertino_jobs.head() "
   ]
  },
  {
   "cell_type": "code",
   "execution_count": 177,
   "id": "7aa4f8bf-4755-45df-9676-e89305388959",
   "metadata": {},
   "outputs": [
    {
     "data": {
      "text/html": [
       "<div>\n",
       "<style scoped>\n",
       "    .dataframe tbody tr th:only-of-type {\n",
       "        vertical-align: middle;\n",
       "    }\n",
       "\n",
       "    .dataframe tbody tr th {\n",
       "        vertical-align: top;\n",
       "    }\n",
       "\n",
       "    .dataframe thead th {\n",
       "        text-align: right;\n",
       "    }\n",
       "</style>\n",
       "<table border=\"1\" class=\"dataframe\">\n",
       "  <thead>\n",
       "    <tr style=\"text-align: right;\">\n",
       "      <th></th>\n",
       "      <th>title</th>\n",
       "      <th>location</th>\n",
       "      <th>minimum_qual</th>\n",
       "      <th>preferred_qual</th>\n",
       "      <th>responsibilities</th>\n",
       "      <th>education&amp;experience</th>\n",
       "    </tr>\n",
       "  </thead>\n",
       "  <tbody>\n",
       "    <tr>\n",
       "      <th>0</th>\n",
       "      <td>Software Technician</td>\n",
       "      <td>Santa Clara Valley (Cupertino), California, Un...</td>\n",
       "      <td>2-5 years experience supporting or deploying a...</td>\n",
       "      <td>None</td>\n",
       "      <td>As a software techician, you will assist with ...</td>\n",
       "      <td>AS/BS in Information Technology, or equivalent</td>\n",
       "    </tr>\n",
       "    <tr>\n",
       "      <th>1</th>\n",
       "      <td>Software Engineer</td>\n",
       "      <td>Santa Clara Valley (Cupertino), California, Un...</td>\n",
       "      <td>KEY QUALIFICATIONS\\nA genuine passion for fixi...</td>\n",
       "      <td>ADDITIONAL REQUIREMENTS\\nReal hands-on experie...</td>\n",
       "      <td>DESCRIPTION\\nWork with multi-functional teams ...</td>\n",
       "      <td>EDUCATION\\nBS or MS in Computer Engineering or...</td>\n",
       "    </tr>\n",
       "    <tr>\n",
       "      <th>2</th>\n",
       "      <td>Software Engineer</td>\n",
       "      <td>Santa Clara Valley (Cupertino), California, Un...</td>\n",
       "      <td>- 3+ years experience working on large scale d...</td>\n",
       "      <td>None</td>\n",
       "      <td>This position will design, implement and debug...</td>\n",
       "      <td>BS, MS or PhD, in Computer Science, or equival...</td>\n",
       "    </tr>\n",
       "    <tr>\n",
       "      <th>3</th>\n",
       "      <td>Software Engineer</td>\n",
       "      <td>Santa Clara Valley (Cupertino), California, Un...</td>\n",
       "      <td>- 3+ years experience working on large scale d...</td>\n",
       "      <td>None</td>\n",
       "      <td>This position will design, implement and debug...</td>\n",
       "      <td>BS, MS or PhD, in Computer Science, or equival...</td>\n",
       "    </tr>\n",
       "    <tr>\n",
       "      <th>4</th>\n",
       "      <td>Software Engineer</td>\n",
       "      <td>Santa Clara Valley (Cupertino), California, Un...</td>\n",
       "      <td>Demonstrated experience integrating full-syste...</td>\n",
       "      <td>None</td>\n",
       "      <td>Extraordinary planning, critical thinking, and...</td>\n",
       "      <td>M.S. or PhD in Computer Science, Electrical En...</td>\n",
       "    </tr>\n",
       "  </tbody>\n",
       "</table>\n",
       "</div>"
      ],
      "text/plain": [
       "                 title                                           location  \\\n",
       "0  Software Technician  Santa Clara Valley (Cupertino), California, Un...   \n",
       "1    Software Engineer  Santa Clara Valley (Cupertino), California, Un...   \n",
       "2    Software Engineer  Santa Clara Valley (Cupertino), California, Un...   \n",
       "3    Software Engineer  Santa Clara Valley (Cupertino), California, Un...   \n",
       "4    Software Engineer  Santa Clara Valley (Cupertino), California, Un...   \n",
       "\n",
       "                                        minimum_qual  \\\n",
       "0  2-5 years experience supporting or deploying a...   \n",
       "1  KEY QUALIFICATIONS\\nA genuine passion for fixi...   \n",
       "2  - 3+ years experience working on large scale d...   \n",
       "3  - 3+ years experience working on large scale d...   \n",
       "4  Demonstrated experience integrating full-syste...   \n",
       "\n",
       "                                      preferred_qual  \\\n",
       "0                                               None   \n",
       "1  ADDITIONAL REQUIREMENTS\\nReal hands-on experie...   \n",
       "2                                               None   \n",
       "3                                               None   \n",
       "4                                               None   \n",
       "\n",
       "                                    responsibilities  \\\n",
       "0  As a software techician, you will assist with ...   \n",
       "1  DESCRIPTION\\nWork with multi-functional teams ...   \n",
       "2  This position will design, implement and debug...   \n",
       "3  This position will design, implement and debug...   \n",
       "4  Extraordinary planning, critical thinking, and...   \n",
       "\n",
       "                                education&experience  \n",
       "0     AS/BS in Information Technology, or equivalent  \n",
       "1  EDUCATION\\nBS or MS in Computer Engineering or...  \n",
       "2  BS, MS or PhD, in Computer Science, or equival...  \n",
       "3  BS, MS or PhD, in Computer Science, or equival...  \n",
       "4  M.S. or PhD in Computer Science, Electrical En...  "
      ]
     },
     "execution_count": 177,
     "metadata": {},
     "output_type": "execute_result"
    }
   ],
   "source": [
    "df_cleaned.head()"
   ]
  },
  {
   "cell_type": "code",
   "execution_count": 178,
   "id": "4d72f23a-2e8d-4b31-8b97-70fc79704a8c",
   "metadata": {
    "scrolled": true
   },
   "outputs": [
    {
     "data": {
      "text/plain": [
       "location\n",
       "Santa Clara Valley (Cupertino), California, United States    1525\n",
       "Austin, Texas, United States                                  112\n",
       "Herzliya, Israel                                               51\n",
       "Singapore, Singapore, Singapore                                41\n",
       "Shanghai, Shanghai, China                                      35\n",
       "Name: count, dtype: int64"
      ]
     },
     "execution_count": 178,
     "metadata": {},
     "output_type": "execute_result"
    }
   ],
   "source": [
    "location_counts.head()"
   ]
  },
  {
   "cell_type": "code",
   "execution_count": 223,
   "id": "161e67fd-45f9-403f-82a6-5c50293b44b6",
   "metadata": {},
   "outputs": [
    {
     "data": {
      "image/png": "[encoded data removed]",
      "text/plain": [
       "<Figure size 1000x800 with 1 Axes>"
      ]
     },
     "metadata": {},
     "output_type": "display_data"
    }
   ],
   "source": [
    "import matplotlib.pyplot as plt\n",
    "\n",
    "# Plotting the top 10 locations by job postings\n",
    "top_locations = location_counts.head(10)\n",
    "plt.figure(figsize=(10, 8))\n",
    "top_locations.plot(kind='bar', color='skyblue')\n",
    "plt.title('Top 10 Job Locations at Apple')\n",
    "plt.xlabel('Location')\n",
    "plt.ylabel('Number of Job Postings')\n",
    "plt.xticks(rotation=45, ha=\"right\")\n",
    "plt.show()"
   ]
  }
 ],
 "metadata": {
  "kernelspec": {
   "display_name": "Python 3 (ipykernel)",
   "language": "python",
   "name": "python3"
  },
  "language_info": {
   "codemirror_mode": {
    "name": "ipython",
    "version": 3
   },
   "file_extension": ".py",
   "mimetype": "text/x-python",
   "name": "python",
   "nbconvert_exporter": "python",
   "pygments_lexer": "ipython3",
   "version": "3.11.7"
  }
 },
 "nbformat": 4,
 "nbformat_minor": 5
}
