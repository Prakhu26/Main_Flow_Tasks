{
 "cells": [
  {
   "cell_type": "code",
   "execution_count": 37,
   "id": "be3c9277-6f36-420f-a255-525476ca3349",
   "metadata": {},
   "outputs": [],
   "source": [
    "#create a list\n",
    "list= [5, 4, 3, 3, 2, 1]"
   ]
  },
  {
   "cell_type": "code",
   "execution_count": 38,
   "id": "c32d0b0b-430c-428b-a49b-122cbe3165e0",
   "metadata": {},
   "outputs": [
    {
     "name": "stdout",
     "output_type": "stream",
     "text": [
      "list: [5, 4, 3, 3, 2, 1, 'pineapple']\n"
     ]
    }
   ],
   "source": [
    "#add to the list\n",
    "list.append(\"pineapple\")\n",
    "print(\"list:\", list)"
   ]
  },
  {
   "cell_type": "code",
   "execution_count": 39,
   "id": "c5cdd874-917e-4b1b-9131-3313df251d57",
   "metadata": {},
   "outputs": [
    {
     "name": "stdout",
     "output_type": "stream",
     "text": [
      "list: [5, 4, 3, 2, 1, 'pineapple', ['apple', 'pen']]\n"
     ]
    }
   ],
   "source": [
    "#remove from the list\n",
    "list.remove(3)\n",
    "list.append([\"apple\", \"pen\"])\n",
    "print(\"list:\", list)"
   ]
  },
  {
   "cell_type": "code",
   "execution_count": 40,
   "id": "1121f163-60a3-4571-98e2-0840de167a53",
   "metadata": {},
   "outputs": [
    {
     "name": "stdout",
     "output_type": "stream",
     "text": [
      "Final list: [5, 4, 'grapes', 2, 1, 'pineapple', ['apple', 'pen'], 4]\n"
     ]
    }
   ],
   "source": [
    "#modify the list\n",
    "list[2]= \"grapes\"\n",
    "list.extend([\"cheese\", 4])\n",
    "list.remove(list[-2])\n",
    "print(\"Final list:\", list)"
   ]
  },
  {
   "cell_type": "code",
   "execution_count": 41,
   "id": "0c499a35-871e-46a8-863f-f6b2b1fa3dbf",
   "metadata": {},
   "outputs": [],
   "source": [
    "#create a dictionary \n",
    "dict= {'name': 'kat', 'age': 10, 'name': 'kat', 'age': 56}"
   ]
  },
  {
   "cell_type": "code",
   "execution_count": 42,
   "id": "aa17e62a-acd4-4f06-907b-95c3b167da7c",
   "metadata": {},
   "outputs": [
    {
     "name": "stdout",
     "output_type": "stream",
     "text": [
      "dictionary: {'name': 'kat', 'age': 56, 'gender': 'female'}\n"
     ]
    }
   ],
   "source": [
    "#add to the dictionary\n",
    "dict['gender']= 'female'\n",
    "print(\"dictionary:\", dict)"
   ]
  },
  {
   "cell_type": "code",
   "execution_count": 43,
   "id": "a2615e70-2580-4999-aca2-1e21e0af3174",
   "metadata": {},
   "outputs": [
    {
     "name": "stdout",
     "output_type": "stream",
     "text": [
      "dictionary: {'name': 'kat', 'gender': 'female'}\n"
     ]
    }
   ],
   "source": [
    "#remove from the dictionary\n",
    "del dict['age']\n",
    "print(\"dictionary:\", dict)"
   ]
  },
  {
   "cell_type": "code",
   "execution_count": 44,
   "id": "e82e9348-7dcc-44a7-b3a4-8bb4cb316e6f",
   "metadata": {
    "scrolled": true
   },
   "outputs": [
    {
     "name": "stdout",
     "output_type": "stream",
     "text": [
      "Final dictionary: {'name': 'kat', 'gender': 'male'}\n"
     ]
    }
   ],
   "source": [
    "#modify the dictionary\n",
    "dict['gender']= 'male'\n",
    "print(\"Final dictionary:\", dict)"
   ]
  },
  {
   "cell_type": "code",
   "execution_count": 45,
   "id": "1e3a74c2-9862-42d5-8f42-f712c7907a10",
   "metadata": {},
   "outputs": [],
   "source": [
    "#create a set\n",
    "set= {15,9,26,7,7}  "
   ]
  },
  {
   "cell_type": "code",
   "execution_count": 46,
   "id": "55506476-da98-418a-819a-42a8dea56210",
   "metadata": {},
   "outputs": [
    {
     "name": "stdout",
     "output_type": "stream",
     "text": [
      "set: {7, 8, 9, 15, 'namaste', 26}\n"
     ]
    }
   ],
   "source": [
    "#add to the set\n",
    "set.add(\"namaste\")\n",
    "set.add(8)\n",
    "print(\"set:\", set)"
   ]
  },
  {
   "cell_type": "code",
   "execution_count": 47,
   "id": "98222876-24a2-42d8-b0de-a0f438ed9161",
   "metadata": {},
   "outputs": [
    {
     "name": "stdout",
     "output_type": "stream",
     "text": [
      "set: {7, 8, 15, 'namaste', 26}\n"
     ]
    }
   ],
   "source": [
    "#remove from the set\n",
    "set.remove(9)\n",
    "print(\"set:\", set)"
   ]
  },
  {
   "cell_type": "code",
   "execution_count": 48,
   "id": "37cc0d16-5031-4cdd-99c7-0ffbbb852085",
   "metadata": {},
   "outputs": [
    {
     "name": "stdout",
     "output_type": "stream",
     "text": [
      "Final set: {8, 10, 15, 'namaste', 26}\n"
     ]
    }
   ],
   "source": [
    "#modify the set\n",
    "set.discard(7)\n",
    "set.add(10)\n",
    "print(\"Final set:\", set)"
   ]
  }
 ],
 "metadata": {
  "kernelspec": {
   "display_name": "Python 3 (ipykernel)",
   "language": "python",
   "name": "python3"
  },
  "language_info": {
   "codemirror_mode": {
    "name": "ipython",
    "version": 3
   },
   "file_extension": ".py",
   "mimetype": "text/x-python",
   "name": "python",
   "nbconvert_exporter": "python",
   "pygments_lexer": "ipython3",
   "version": "3.11.7"
  }
 },
 "nbformat": 4,
 "nbformat_minor": 5
}
